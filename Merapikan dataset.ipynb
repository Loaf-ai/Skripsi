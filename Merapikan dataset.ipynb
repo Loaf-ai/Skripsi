{
 "cells": [
  {
   "cell_type": "code",
   "execution_count": 28,
   "metadata": {},
   "outputs": [],
   "source": [
    "import pandas as pd\n",
    "data = pd.DataFrame()"
   ]
  },
  {
   "cell_type": "code",
   "execution_count": 29,
   "metadata": {},
   "outputs": [
    {
     "data": {
      "text/html": [
       "<div>\n",
       "<style scoped>\n",
       "    .dataframe tbody tr th:only-of-type {\n",
       "        vertical-align: middle;\n",
       "    }\n",
       "\n",
       "    .dataframe tbody tr th {\n",
       "        vertical-align: top;\n",
       "    }\n",
       "\n",
       "    .dataframe thead th {\n",
       "        text-align: right;\n",
       "    }\n",
       "</style>\n",
       "<table border=\"1\" class=\"dataframe\">\n",
       "  <thead>\n",
       "    <tr style=\"text-align: right;\">\n",
       "      <th></th>\n",
       "      <th>ratingDate</th>\n",
       "      <th>partial_entry</th>\n",
       "    </tr>\n",
       "  </thead>\n",
       "  <tbody>\n",
       "    <tr>\n",
       "      <th>0</th>\n",
       "      <td>Diulas pada 30 Januari 2023</td>\n",
       "      <td>Bangunan Sejarah yang keren, tempatnya bersih,...</td>\n",
       "    </tr>\n",
       "    <tr>\n",
       "      <th>1</th>\n",
       "      <td>Diulas pada 23 November 2022</td>\n",
       "      <td>Banyak spot foto Instagrammable di tempat iniP...</td>\n",
       "    </tr>\n",
       "    <tr>\n",
       "      <th>2</th>\n",
       "      <td>Diulas pada 21 September 2022</td>\n",
       "      <td>salah satu destinasi wisata yg ada di semarang...</td>\n",
       "    </tr>\n",
       "    <tr>\n",
       "      <th>3</th>\n",
       "      <td>Diulas pada 30 Oktober 2021</td>\n",
       "      <td>Icon Semarang. Gedung bersejarah ini dulu kant...</td>\n",
       "    </tr>\n",
       "    <tr>\n",
       "      <th>4</th>\n",
       "      <td>Diulas pada 9 Oktober 2021</td>\n",
       "      <td>Jalan-jalan ke Semarang , Jawa Tengah belum le...</td>\n",
       "    </tr>\n",
       "    <tr>\n",
       "      <th>...</th>\n",
       "      <td>...</td>\n",
       "      <td>...</td>\n",
       "    </tr>\n",
       "    <tr>\n",
       "      <th>1231</th>\n",
       "      <td>NaN</td>\n",
       "      <td>NaN</td>\n",
       "    </tr>\n",
       "    <tr>\n",
       "      <th>1232</th>\n",
       "      <td>Diulas pada 19 Maret 2012</td>\n",
       "      <td>peninggalan ini terasa sekali nuansa klasiknya...</td>\n",
       "    </tr>\n",
       "    <tr>\n",
       "      <th>1233</th>\n",
       "      <td>Diulas pada 11 Februari 2012</td>\n",
       "      <td>Jika dulu orang mendengar nama gedung ini yang...</td>\n",
       "    </tr>\n",
       "    <tr>\n",
       "      <th>1234</th>\n",
       "      <td>Diulas pada 23 Januari 2012</td>\n",
       "      <td>Pengelolaan Lawang Sewu sebagai obyek wisata b...</td>\n",
       "    </tr>\n",
       "    <tr>\n",
       "      <th>1235</th>\n",
       "      <td>NaN</td>\n",
       "      <td>NaN</td>\n",
       "    </tr>\n",
       "  </tbody>\n",
       "</table>\n",
       "<p>1236 rows × 2 columns</p>\n",
       "</div>"
      ],
      "text/plain": [
       "                         ratingDate  \\\n",
       "0       Diulas pada 30 Januari 2023   \n",
       "1      Diulas pada 23 November 2022   \n",
       "2     Diulas pada 21 September 2022   \n",
       "3       Diulas pada 30 Oktober 2021   \n",
       "4        Diulas pada 9 Oktober 2021   \n",
       "...                             ...   \n",
       "1231                            NaN   \n",
       "1232      Diulas pada 19 Maret 2012   \n",
       "1233   Diulas pada 11 Februari 2012   \n",
       "1234    Diulas pada 23 Januari 2012   \n",
       "1235                            NaN   \n",
       "\n",
       "                                          partial_entry  \n",
       "0     Bangunan Sejarah yang keren, tempatnya bersih,...  \n",
       "1     Banyak spot foto Instagrammable di tempat iniP...  \n",
       "2     salah satu destinasi wisata yg ada di semarang...  \n",
       "3     Icon Semarang. Gedung bersejarah ini dulu kant...  \n",
       "4     Jalan-jalan ke Semarang , Jawa Tengah belum le...  \n",
       "...                                                 ...  \n",
       "1231                                                NaN  \n",
       "1232  peninggalan ini terasa sekali nuansa klasiknya...  \n",
       "1233  Jika dulu orang mendengar nama gedung ini yang...  \n",
       "1234  Pengelolaan Lawang Sewu sebagai obyek wisata b...  \n",
       "1235                                                NaN  \n",
       "\n",
       "[1236 rows x 2 columns]"
      ]
     },
     "execution_count": 29,
     "metadata": {},
     "output_type": "execute_result"
    }
   ],
   "source": [
    "data = pd.read_csv(\"tripadvisor.csv\")\n",
    "data"
   ]
  },
  {
   "cell_type": "code",
   "execution_count": 30,
   "metadata": {},
   "outputs": [
    {
     "data": {
      "text/html": [
       "<div>\n",
       "<style scoped>\n",
       "    .dataframe tbody tr th:only-of-type {\n",
       "        vertical-align: middle;\n",
       "    }\n",
       "\n",
       "    .dataframe tbody tr th {\n",
       "        vertical-align: top;\n",
       "    }\n",
       "\n",
       "    .dataframe thead th {\n",
       "        text-align: right;\n",
       "    }\n",
       "</style>\n",
       "<table border=\"1\" class=\"dataframe\">\n",
       "  <thead>\n",
       "    <tr style=\"text-align: right;\">\n",
       "      <th></th>\n",
       "      <th>ratingDate</th>\n",
       "      <th>partial_entry</th>\n",
       "    </tr>\n",
       "  </thead>\n",
       "  <tbody>\n",
       "    <tr>\n",
       "      <th>0</th>\n",
       "      <td>Diulas pada 30 Januari 2023</td>\n",
       "      <td>Bangunan Sejarah yang keren, tempatnya bersih,...</td>\n",
       "    </tr>\n",
       "    <tr>\n",
       "      <th>1</th>\n",
       "      <td>Diulas pada 23 November 2022</td>\n",
       "      <td>Banyak spot foto Instagrammable di tempat iniP...</td>\n",
       "    </tr>\n",
       "    <tr>\n",
       "      <th>2</th>\n",
       "      <td>Diulas pada 21 September 2022</td>\n",
       "      <td>salah satu destinasi wisata yg ada di semarang...</td>\n",
       "    </tr>\n",
       "    <tr>\n",
       "      <th>3</th>\n",
       "      <td>Diulas pada 30 Oktober 2021</td>\n",
       "      <td>Icon Semarang. Gedung bersejarah ini dulu kant...</td>\n",
       "    </tr>\n",
       "    <tr>\n",
       "      <th>4</th>\n",
       "      <td>Diulas pada 9 Oktober 2021</td>\n",
       "      <td>Jalan-jalan ke Semarang , Jawa Tengah belum le...</td>\n",
       "    </tr>\n",
       "    <tr>\n",
       "      <th>...</th>\n",
       "      <td>...</td>\n",
       "      <td>...</td>\n",
       "    </tr>\n",
       "    <tr>\n",
       "      <th>1228</th>\n",
       "      <td>Diulas pada 8 Juni 2012</td>\n",
       "      <td>waktu sma sekira tahun 1994 waktu itu dipakai ...</td>\n",
       "    </tr>\n",
       "    <tr>\n",
       "      <th>1229</th>\n",
       "      <td>Diulas pada 4 April 2012</td>\n",
       "      <td>arsitektur yang kokoh pada zamanya..jika diraw...</td>\n",
       "    </tr>\n",
       "    <tr>\n",
       "      <th>1232</th>\n",
       "      <td>Diulas pada 19 Maret 2012</td>\n",
       "      <td>peninggalan ini terasa sekali nuansa klasiknya...</td>\n",
       "    </tr>\n",
       "    <tr>\n",
       "      <th>1233</th>\n",
       "      <td>Diulas pada 11 Februari 2012</td>\n",
       "      <td>Jika dulu orang mendengar nama gedung ini yang...</td>\n",
       "    </tr>\n",
       "    <tr>\n",
       "      <th>1234</th>\n",
       "      <td>Diulas pada 23 Januari 2012</td>\n",
       "      <td>Pengelolaan Lawang Sewu sebagai obyek wisata b...</td>\n",
       "    </tr>\n",
       "  </tbody>\n",
       "</table>\n",
       "<p>1058 rows × 2 columns</p>\n",
       "</div>"
      ],
      "text/plain": [
       "                         ratingDate  \\\n",
       "0       Diulas pada 30 Januari 2023   \n",
       "1      Diulas pada 23 November 2022   \n",
       "2     Diulas pada 21 September 2022   \n",
       "3       Diulas pada 30 Oktober 2021   \n",
       "4        Diulas pada 9 Oktober 2021   \n",
       "...                             ...   \n",
       "1228        Diulas pada 8 Juni 2012   \n",
       "1229       Diulas pada 4 April 2012   \n",
       "1232      Diulas pada 19 Maret 2012   \n",
       "1233   Diulas pada 11 Februari 2012   \n",
       "1234    Diulas pada 23 Januari 2012   \n",
       "\n",
       "                                          partial_entry  \n",
       "0     Bangunan Sejarah yang keren, tempatnya bersih,...  \n",
       "1     Banyak spot foto Instagrammable di tempat iniP...  \n",
       "2     salah satu destinasi wisata yg ada di semarang...  \n",
       "3     Icon Semarang. Gedung bersejarah ini dulu kant...  \n",
       "4     Jalan-jalan ke Semarang , Jawa Tengah belum le...  \n",
       "...                                                 ...  \n",
       "1228  waktu sma sekira tahun 1994 waktu itu dipakai ...  \n",
       "1229  arsitektur yang kokoh pada zamanya..jika diraw...  \n",
       "1232  peninggalan ini terasa sekali nuansa klasiknya...  \n",
       "1233  Jika dulu orang mendengar nama gedung ini yang...  \n",
       "1234  Pengelolaan Lawang Sewu sebagai obyek wisata b...  \n",
       "\n",
       "[1058 rows x 2 columns]"
      ]
     },
     "execution_count": 30,
     "metadata": {},
     "output_type": "execute_result"
    }
   ],
   "source": [
    "#Menghapus baris nilai NaN\n",
    "data = data.dropna()\n",
    "data"
   ]
  },
  {
   "cell_type": "code",
   "execution_count": 31,
   "metadata": {},
   "outputs": [
    {
     "name": "stderr",
     "output_type": "stream",
     "text": [
      "C:\\Users\\herog\\AppData\\Local\\Temp\\ipykernel_20180\\2737096800.py:2: SettingWithCopyWarning: \n",
      "A value is trying to be set on a copy of a slice from a DataFrame\n",
      "\n",
      "See the caveats in the documentation: https://pandas.pydata.org/pandas-docs/stable/user_guide/indexing.html#returning-a-view-versus-a-copy\n",
      "  data.drop(columns = ['ratingDate'], inplace = True)\n"
     ]
    },
    {
     "data": {
      "text/html": [
       "<div>\n",
       "<style scoped>\n",
       "    .dataframe tbody tr th:only-of-type {\n",
       "        vertical-align: middle;\n",
       "    }\n",
       "\n",
       "    .dataframe tbody tr th {\n",
       "        vertical-align: top;\n",
       "    }\n",
       "\n",
       "    .dataframe thead th {\n",
       "        text-align: right;\n",
       "    }\n",
       "</style>\n",
       "<table border=\"1\" class=\"dataframe\">\n",
       "  <thead>\n",
       "    <tr style=\"text-align: right;\">\n",
       "      <th></th>\n",
       "      <th>partial_entry</th>\n",
       "    </tr>\n",
       "  </thead>\n",
       "  <tbody>\n",
       "    <tr>\n",
       "      <th>0</th>\n",
       "      <td>Bangunan Sejarah yang keren, tempatnya bersih,...</td>\n",
       "    </tr>\n",
       "    <tr>\n",
       "      <th>1</th>\n",
       "      <td>Banyak spot foto Instagrammable di tempat iniP...</td>\n",
       "    </tr>\n",
       "    <tr>\n",
       "      <th>2</th>\n",
       "      <td>salah satu destinasi wisata yg ada di semarang...</td>\n",
       "    </tr>\n",
       "    <tr>\n",
       "      <th>3</th>\n",
       "      <td>Icon Semarang. Gedung bersejarah ini dulu kant...</td>\n",
       "    </tr>\n",
       "    <tr>\n",
       "      <th>4</th>\n",
       "      <td>Jalan-jalan ke Semarang , Jawa Tengah belum le...</td>\n",
       "    </tr>\n",
       "    <tr>\n",
       "      <th>...</th>\n",
       "      <td>...</td>\n",
       "    </tr>\n",
       "    <tr>\n",
       "      <th>1228</th>\n",
       "      <td>waktu sma sekira tahun 1994 waktu itu dipakai ...</td>\n",
       "    </tr>\n",
       "    <tr>\n",
       "      <th>1229</th>\n",
       "      <td>arsitektur yang kokoh pada zamanya..jika diraw...</td>\n",
       "    </tr>\n",
       "    <tr>\n",
       "      <th>1232</th>\n",
       "      <td>peninggalan ini terasa sekali nuansa klasiknya...</td>\n",
       "    </tr>\n",
       "    <tr>\n",
       "      <th>1233</th>\n",
       "      <td>Jika dulu orang mendengar nama gedung ini yang...</td>\n",
       "    </tr>\n",
       "    <tr>\n",
       "      <th>1234</th>\n",
       "      <td>Pengelolaan Lawang Sewu sebagai obyek wisata b...</td>\n",
       "    </tr>\n",
       "  </tbody>\n",
       "</table>\n",
       "<p>1058 rows × 1 columns</p>\n",
       "</div>"
      ],
      "text/plain": [
       "                                          partial_entry\n",
       "0     Bangunan Sejarah yang keren, tempatnya bersih,...\n",
       "1     Banyak spot foto Instagrammable di tempat iniP...\n",
       "2     salah satu destinasi wisata yg ada di semarang...\n",
       "3     Icon Semarang. Gedung bersejarah ini dulu kant...\n",
       "4     Jalan-jalan ke Semarang , Jawa Tengah belum le...\n",
       "...                                                 ...\n",
       "1228  waktu sma sekira tahun 1994 waktu itu dipakai ...\n",
       "1229  arsitektur yang kokoh pada zamanya..jika diraw...\n",
       "1232  peninggalan ini terasa sekali nuansa klasiknya...\n",
       "1233  Jika dulu orang mendengar nama gedung ini yang...\n",
       "1234  Pengelolaan Lawang Sewu sebagai obyek wisata b...\n",
       "\n",
       "[1058 rows x 1 columns]"
      ]
     },
     "execution_count": 31,
     "metadata": {},
     "output_type": "execute_result"
    }
   ],
   "source": [
    "#Menghapus kolom ratingDate\n",
    "data.drop(columns = ['ratingDate'], inplace = True)\n",
    "data"
   ]
  },
  {
   "cell_type": "code",
   "execution_count": 32,
   "metadata": {},
   "outputs": [
    {
     "name": "stderr",
     "output_type": "stream",
     "text": [
      "C:\\Users\\herog\\AppData\\Local\\Temp\\ipykernel_20180\\782164129.py:2: SettingWithCopyWarning: \n",
      "A value is trying to be set on a copy of a slice from a DataFrame\n",
      "\n",
      "See the caveats in the documentation: https://pandas.pydata.org/pandas-docs/stable/user_guide/indexing.html#returning-a-view-versus-a-copy\n",
      "  data.rename(columns = {\"partial_entry\": \"Ulasan\"}, inplace=True)\n"
     ]
    },
    {
     "data": {
      "text/html": [
       "<div>\n",
       "<style scoped>\n",
       "    .dataframe tbody tr th:only-of-type {\n",
       "        vertical-align: middle;\n",
       "    }\n",
       "\n",
       "    .dataframe tbody tr th {\n",
       "        vertical-align: top;\n",
       "    }\n",
       "\n",
       "    .dataframe thead th {\n",
       "        text-align: right;\n",
       "    }\n",
       "</style>\n",
       "<table border=\"1\" class=\"dataframe\">\n",
       "  <thead>\n",
       "    <tr style=\"text-align: right;\">\n",
       "      <th></th>\n",
       "      <th>Ulasan</th>\n",
       "    </tr>\n",
       "  </thead>\n",
       "  <tbody>\n",
       "    <tr>\n",
       "      <th>0</th>\n",
       "      <td>Bangunan Sejarah yang keren, tempatnya bersih,...</td>\n",
       "    </tr>\n",
       "    <tr>\n",
       "      <th>1</th>\n",
       "      <td>Banyak spot foto Instagrammable di tempat iniP...</td>\n",
       "    </tr>\n",
       "    <tr>\n",
       "      <th>2</th>\n",
       "      <td>salah satu destinasi wisata yg ada di semarang...</td>\n",
       "    </tr>\n",
       "    <tr>\n",
       "      <th>3</th>\n",
       "      <td>Icon Semarang. Gedung bersejarah ini dulu kant...</td>\n",
       "    </tr>\n",
       "    <tr>\n",
       "      <th>4</th>\n",
       "      <td>Jalan-jalan ke Semarang , Jawa Tengah belum le...</td>\n",
       "    </tr>\n",
       "    <tr>\n",
       "      <th>...</th>\n",
       "      <td>...</td>\n",
       "    </tr>\n",
       "    <tr>\n",
       "      <th>1228</th>\n",
       "      <td>waktu sma sekira tahun 1994 waktu itu dipakai ...</td>\n",
       "    </tr>\n",
       "    <tr>\n",
       "      <th>1229</th>\n",
       "      <td>arsitektur yang kokoh pada zamanya..jika diraw...</td>\n",
       "    </tr>\n",
       "    <tr>\n",
       "      <th>1232</th>\n",
       "      <td>peninggalan ini terasa sekali nuansa klasiknya...</td>\n",
       "    </tr>\n",
       "    <tr>\n",
       "      <th>1233</th>\n",
       "      <td>Jika dulu orang mendengar nama gedung ini yang...</td>\n",
       "    </tr>\n",
       "    <tr>\n",
       "      <th>1234</th>\n",
       "      <td>Pengelolaan Lawang Sewu sebagai obyek wisata b...</td>\n",
       "    </tr>\n",
       "  </tbody>\n",
       "</table>\n",
       "<p>1058 rows × 1 columns</p>\n",
       "</div>"
      ],
      "text/plain": [
       "                                                 Ulasan\n",
       "0     Bangunan Sejarah yang keren, tempatnya bersih,...\n",
       "1     Banyak spot foto Instagrammable di tempat iniP...\n",
       "2     salah satu destinasi wisata yg ada di semarang...\n",
       "3     Icon Semarang. Gedung bersejarah ini dulu kant...\n",
       "4     Jalan-jalan ke Semarang , Jawa Tengah belum le...\n",
       "...                                                 ...\n",
       "1228  waktu sma sekira tahun 1994 waktu itu dipakai ...\n",
       "1229  arsitektur yang kokoh pada zamanya..jika diraw...\n",
       "1232  peninggalan ini terasa sekali nuansa klasiknya...\n",
       "1233  Jika dulu orang mendengar nama gedung ini yang...\n",
       "1234  Pengelolaan Lawang Sewu sebagai obyek wisata b...\n",
       "\n",
       "[1058 rows x 1 columns]"
      ]
     },
     "execution_count": 32,
     "metadata": {},
     "output_type": "execute_result"
    }
   ],
   "source": [
    "#Mengubah nama kolom partial_entry menjadi Ulasan\n",
    "data.rename(columns = {\"partial_entry\": \"Ulasan\"}, inplace=True)\n",
    "data"
   ]
  },
  {
   "cell_type": "code",
   "execution_count": 33,
   "metadata": {},
   "outputs": [],
   "source": [
    "#Save Dataset\n",
    "data.to_csv('data.csv', index=False)"
   ]
  },
  {
   "cell_type": "code",
   "execution_count": 34,
   "metadata": {},
   "outputs": [
    {
     "data": {
      "text/html": [
       "<div>\n",
       "<style scoped>\n",
       "    .dataframe tbody tr th:only-of-type {\n",
       "        vertical-align: middle;\n",
       "    }\n",
       "\n",
       "    .dataframe tbody tr th {\n",
       "        vertical-align: top;\n",
       "    }\n",
       "\n",
       "    .dataframe thead th {\n",
       "        text-align: right;\n",
       "    }\n",
       "</style>\n",
       "<table border=\"1\" class=\"dataframe\">\n",
       "  <thead>\n",
       "    <tr style=\"text-align: right;\">\n",
       "      <th></th>\n",
       "      <th>Ulasan</th>\n",
       "    </tr>\n",
       "  </thead>\n",
       "  <tbody>\n",
       "    <tr>\n",
       "      <th>0</th>\n",
       "      <td>Bangunan Sejarah yang keren, tempatnya bersih,...</td>\n",
       "    </tr>\n",
       "    <tr>\n",
       "      <th>1</th>\n",
       "      <td>Banyak spot foto Instagrammable di tempat iniP...</td>\n",
       "    </tr>\n",
       "    <tr>\n",
       "      <th>2</th>\n",
       "      <td>salah satu destinasi wisata yg ada di semarang...</td>\n",
       "    </tr>\n",
       "    <tr>\n",
       "      <th>3</th>\n",
       "      <td>Icon Semarang. Gedung bersejarah ini dulu kant...</td>\n",
       "    </tr>\n",
       "    <tr>\n",
       "      <th>4</th>\n",
       "      <td>Jalan-jalan ke Semarang , Jawa Tengah belum le...</td>\n",
       "    </tr>\n",
       "    <tr>\n",
       "      <th>...</th>\n",
       "      <td>...</td>\n",
       "    </tr>\n",
       "    <tr>\n",
       "      <th>1228</th>\n",
       "      <td>waktu sma sekira tahun 1994 waktu itu dipakai ...</td>\n",
       "    </tr>\n",
       "    <tr>\n",
       "      <th>1229</th>\n",
       "      <td>arsitektur yang kokoh pada zamanya..jika diraw...</td>\n",
       "    </tr>\n",
       "    <tr>\n",
       "      <th>1232</th>\n",
       "      <td>peninggalan ini terasa sekali nuansa klasiknya...</td>\n",
       "    </tr>\n",
       "    <tr>\n",
       "      <th>1233</th>\n",
       "      <td>Jika dulu orang mendengar nama gedung ini yang...</td>\n",
       "    </tr>\n",
       "    <tr>\n",
       "      <th>1234</th>\n",
       "      <td>Pengelolaan Lawang Sewu sebagai obyek wisata b...</td>\n",
       "    </tr>\n",
       "  </tbody>\n",
       "</table>\n",
       "<p>1058 rows × 1 columns</p>\n",
       "</div>"
      ],
      "text/plain": [
       "                                                 Ulasan\n",
       "0     Bangunan Sejarah yang keren, tempatnya bersih,...\n",
       "1     Banyak spot foto Instagrammable di tempat iniP...\n",
       "2     salah satu destinasi wisata yg ada di semarang...\n",
       "3     Icon Semarang. Gedung bersejarah ini dulu kant...\n",
       "4     Jalan-jalan ke Semarang , Jawa Tengah belum le...\n",
       "...                                                 ...\n",
       "1228  waktu sma sekira tahun 1994 waktu itu dipakai ...\n",
       "1229  arsitektur yang kokoh pada zamanya..jika diraw...\n",
       "1232  peninggalan ini terasa sekali nuansa klasiknya...\n",
       "1233  Jika dulu orang mendengar nama gedung ini yang...\n",
       "1234  Pengelolaan Lawang Sewu sebagai obyek wisata b...\n",
       "\n",
       "[1058 rows x 1 columns]"
      ]
     },
     "execution_count": 34,
     "metadata": {},
     "output_type": "execute_result"
    }
   ],
   "source": [
    "data"
   ]
  },
  {
   "cell_type": "code",
   "execution_count": 35,
   "metadata": {},
   "outputs": [
    {
     "data": {
      "text/plain": [
       "Ulasan    object\n",
       "dtype: object"
      ]
     },
     "execution_count": 35,
     "metadata": {},
     "output_type": "execute_result"
    }
   ],
   "source": [
    "data.dtypes"
   ]
  },
  {
   "cell_type": "code",
   "execution_count": 36,
   "metadata": {},
   "outputs": [
    {
     "data": {
      "text/plain": [
       "(1058, 1)"
      ]
     },
     "execution_count": 36,
     "metadata": {},
     "output_type": "execute_result"
    }
   ],
   "source": [
    "data.shape"
   ]
  },
  {
   "cell_type": "code",
   "execution_count": 37,
   "metadata": {},
   "outputs": [
    {
     "data": {
      "text/plain": [
       "Ulasan    0\n",
       "dtype: int64"
      ]
     },
     "execution_count": 37,
     "metadata": {},
     "output_type": "execute_result"
    }
   ],
   "source": [
    "#Check missing value\n",
    "data.isnull().sum()"
   ]
  },
  {
   "cell_type": "code",
   "execution_count": 38,
   "metadata": {},
   "outputs": [
    {
     "data": {
      "text/plain": [
       "0"
      ]
     },
     "execution_count": 38,
     "metadata": {},
     "output_type": "execute_result"
    }
   ],
   "source": [
    "#Check data duplicated\n",
    "data = data.drop_duplicates()\n",
    "data.duplicated().sum()"
   ]
  },
  {
   "cell_type": "code",
   "execution_count": 39,
   "metadata": {},
   "outputs": [],
   "source": [
    "data.to_csv('data.csv', index=False)"
   ]
  },
  {
   "cell_type": "code",
   "execution_count": null,
   "metadata": {},
   "outputs": [],
   "source": []
  }
 ],
 "metadata": {
  "kernelspec": {
   "display_name": "Python 3",
   "language": "python",
   "name": "python3"
  },
  "language_info": {
   "codemirror_mode": {
    "name": "ipython",
    "version": 3
   },
   "file_extension": ".py",
   "mimetype": "text/x-python",
   "name": "python",
   "nbconvert_exporter": "python",
   "pygments_lexer": "ipython3",
   "version": "3.11.5"
  }
 },
 "nbformat": 4,
 "nbformat_minor": 2
}
